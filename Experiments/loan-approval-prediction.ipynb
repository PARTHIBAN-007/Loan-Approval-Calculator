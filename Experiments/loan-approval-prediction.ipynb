{
 "cells": [
  {
   "cell_type": "markdown",
   "id": "7990493b",
   "metadata": {
    "papermill": {
     "duration": 0.011778,
     "end_time": "2024-10-13T11:54:52.896151",
     "exception": false,
     "start_time": "2024-10-13T11:54:52.884373",
     "status": "completed"
    },
    "tags": []
   },
   "source": [
    "## <div style = \"color:#fff ; background-color:#666 ; font-size:25px ; border-radius:25px ; padding:15px; text-align:center ;\"> Loan Approval Prediction</div>"
   ]
  },
  {
   "cell_type": "markdown",
   "id": "477bc2ef",
   "metadata": {
    "papermill": {
     "duration": 0.010708,
     "end_time": "2024-10-13T11:54:52.918556",
     "exception": false,
     "start_time": "2024-10-13T11:54:52.907848",
     "status": "completed"
    },
    "tags": []
   },
   "source": [
    "<img src = \"https://www.cashe.co.in/wp-content/uploads/2024/01/Loan_Term.png\" height = \"100%\" width =\"100%\" />"
   ]
  },
  {
   "cell_type": "markdown",
   "id": "11c21dba",
   "metadata": {
    "papermill": {
     "duration": 0.010718,
     "end_time": "2024-10-13T11:54:52.940558",
     "exception": false,
     "start_time": "2024-10-13T11:54:52.929840",
     "status": "completed"
    },
    "tags": []
   },
   "source": [
    "## <div style = \"color:#fff ; background-color:#666 ; font-size:25px ; border-radius:25px ; padding:15px; text-align:center ;\"> Importing Necessary Libraries</div>"
   ]
  },
  {
   "cell_type": "code",
   "execution_count": 1,
   "id": "8911cd48",
   "metadata": {
    "execution": {
     "iopub.execute_input": "2024-10-13T11:54:52.964533Z",
     "iopub.status.busy": "2024-10-13T11:54:52.964084Z",
     "iopub.status.idle": "2024-10-13T11:54:55.867040Z",
     "shell.execute_reply": "2024-10-13T11:54:55.865766Z"
    },
    "papermill": {
     "duration": 2.918486,
     "end_time": "2024-10-13T11:54:55.870116",
     "exception": false,
     "start_time": "2024-10-13T11:54:52.951630",
     "status": "completed"
    },
    "tags": []
   },
   "outputs": [],
   "source": [
    "# Importing Necessary libraries for Data handing\n",
    "import pandas as pd\n",
    "import numpy as np\n",
    "import matplotlib.pyplot as plt\n",
    "import seaborn as sns\n",
    "import warnings\n",
    "warnings.filterwarnings(\"ignore\")"
   ]
  },
  {
   "cell_type": "markdown",
   "id": "c25be726",
   "metadata": {
    "papermill": {
     "duration": 0.010744,
     "end_time": "2024-10-13T11:54:55.893140",
     "exception": false,
     "start_time": "2024-10-13T11:54:55.882396",
     "status": "completed"
    },
    "tags": []
   },
   "source": [
    "## <div style = \"color:#fff ; background-color:#666 ; font-size:25px ; border-radius:25px ; padding:15px; text-align:center ;\">Loading Data</div>"
   ]
  },
  {
   "cell_type": "code",
   "execution_count": 2,
   "id": "32f4fb43",
   "metadata": {
    "execution": {
     "iopub.execute_input": "2024-10-13T11:54:55.917426Z",
     "iopub.status.busy": "2024-10-13T11:54:55.916746Z",
     "iopub.status.idle": "2024-10-13T11:54:56.193858Z",
     "shell.execute_reply": "2024-10-13T11:54:56.192414Z"
    },
    "papermill": {
     "duration": 0.292404,
     "end_time": "2024-10-13T11:54:56.196760",
     "exception": false,
     "start_time": "2024-10-13T11:54:55.904356",
     "status": "completed"
    },
    "tags": []
   },
   "outputs": [],
   "source": [
    "# loading Data\n",
    "df = pd.read_csv(\"../Data/train.csv\")\n"
   ]
  },
  {
   "cell_type": "code",
   "execution_count": 3,
   "id": "a324255a",
   "metadata": {
    "execution": {
     "iopub.execute_input": "2024-10-13T11:54:56.221734Z",
     "iopub.status.busy": "2024-10-13T11:54:56.221250Z",
     "iopub.status.idle": "2024-10-13T11:54:56.255324Z",
     "shell.execute_reply": "2024-10-13T11:54:56.254086Z"
    },
    "papermill": {
     "duration": 0.049757,
     "end_time": "2024-10-13T11:54:56.258133",
     "exception": false,
     "start_time": "2024-10-13T11:54:56.208376",
     "status": "completed"
    },
    "tags": []
   },
   "outputs": [
    {
     "data": {
      "text/html": [
       "<div>\n",
       "<style scoped>\n",
       "    .dataframe tbody tr th:only-of-type {\n",
       "        vertical-align: middle;\n",
       "    }\n",
       "\n",
       "    .dataframe tbody tr th {\n",
       "        vertical-align: top;\n",
       "    }\n",
       "\n",
       "    .dataframe thead th {\n",
       "        text-align: right;\n",
       "    }\n",
       "</style>\n",
       "<table border=\"1\" class=\"dataframe\">\n",
       "  <thead>\n",
       "    <tr style=\"text-align: right;\">\n",
       "      <th></th>\n",
       "      <th>id</th>\n",
       "      <th>person_age</th>\n",
       "      <th>person_income</th>\n",
       "      <th>person_home_ownership</th>\n",
       "      <th>person_emp_length</th>\n",
       "      <th>loan_intent</th>\n",
       "      <th>loan_grade</th>\n",
       "      <th>loan_amnt</th>\n",
       "      <th>loan_int_rate</th>\n",
       "      <th>loan_percent_income</th>\n",
       "      <th>cb_person_default_on_file</th>\n",
       "      <th>cb_person_cred_hist_length</th>\n",
       "      <th>loan_status</th>\n",
       "    </tr>\n",
       "  </thead>\n",
       "  <tbody>\n",
       "    <tr>\n",
       "      <th>0</th>\n",
       "      <td>0</td>\n",
       "      <td>37</td>\n",
       "      <td>35000</td>\n",
       "      <td>RENT</td>\n",
       "      <td>0.0</td>\n",
       "      <td>EDUCATION</td>\n",
       "      <td>B</td>\n",
       "      <td>6000</td>\n",
       "      <td>11.49</td>\n",
       "      <td>0.17</td>\n",
       "      <td>N</td>\n",
       "      <td>14</td>\n",
       "      <td>0</td>\n",
       "    </tr>\n",
       "    <tr>\n",
       "      <th>1</th>\n",
       "      <td>1</td>\n",
       "      <td>22</td>\n",
       "      <td>56000</td>\n",
       "      <td>OWN</td>\n",
       "      <td>6.0</td>\n",
       "      <td>MEDICAL</td>\n",
       "      <td>C</td>\n",
       "      <td>4000</td>\n",
       "      <td>13.35</td>\n",
       "      <td>0.07</td>\n",
       "      <td>N</td>\n",
       "      <td>2</td>\n",
       "      <td>0</td>\n",
       "    </tr>\n",
       "    <tr>\n",
       "      <th>2</th>\n",
       "      <td>2</td>\n",
       "      <td>29</td>\n",
       "      <td>28800</td>\n",
       "      <td>OWN</td>\n",
       "      <td>8.0</td>\n",
       "      <td>PERSONAL</td>\n",
       "      <td>A</td>\n",
       "      <td>6000</td>\n",
       "      <td>8.90</td>\n",
       "      <td>0.21</td>\n",
       "      <td>N</td>\n",
       "      <td>10</td>\n",
       "      <td>0</td>\n",
       "    </tr>\n",
       "    <tr>\n",
       "      <th>3</th>\n",
       "      <td>3</td>\n",
       "      <td>30</td>\n",
       "      <td>70000</td>\n",
       "      <td>RENT</td>\n",
       "      <td>14.0</td>\n",
       "      <td>VENTURE</td>\n",
       "      <td>B</td>\n",
       "      <td>12000</td>\n",
       "      <td>11.11</td>\n",
       "      <td>0.17</td>\n",
       "      <td>N</td>\n",
       "      <td>5</td>\n",
       "      <td>0</td>\n",
       "    </tr>\n",
       "    <tr>\n",
       "      <th>4</th>\n",
       "      <td>4</td>\n",
       "      <td>22</td>\n",
       "      <td>60000</td>\n",
       "      <td>RENT</td>\n",
       "      <td>2.0</td>\n",
       "      <td>MEDICAL</td>\n",
       "      <td>A</td>\n",
       "      <td>6000</td>\n",
       "      <td>6.92</td>\n",
       "      <td>0.10</td>\n",
       "      <td>N</td>\n",
       "      <td>3</td>\n",
       "      <td>0</td>\n",
       "    </tr>\n",
       "  </tbody>\n",
       "</table>\n",
       "</div>"
      ],
      "text/plain": [
       "   id  person_age  person_income person_home_ownership  person_emp_length  \\\n",
       "0   0          37          35000                  RENT                0.0   \n",
       "1   1          22          56000                   OWN                6.0   \n",
       "2   2          29          28800                   OWN                8.0   \n",
       "3   3          30          70000                  RENT               14.0   \n",
       "4   4          22          60000                  RENT                2.0   \n",
       "\n",
       "  loan_intent loan_grade  loan_amnt  loan_int_rate  loan_percent_income  \\\n",
       "0   EDUCATION          B       6000          11.49                 0.17   \n",
       "1     MEDICAL          C       4000          13.35                 0.07   \n",
       "2    PERSONAL          A       6000           8.90                 0.21   \n",
       "3     VENTURE          B      12000          11.11                 0.17   \n",
       "4     MEDICAL          A       6000           6.92                 0.10   \n",
       "\n",
       "  cb_person_default_on_file  cb_person_cred_hist_length  loan_status  \n",
       "0                         N                          14            0  \n",
       "1                         N                           2            0  \n",
       "2                         N                          10            0  \n",
       "3                         N                           5            0  \n",
       "4                         N                           3            0  "
      ]
     },
     "execution_count": 3,
     "metadata": {},
     "output_type": "execute_result"
    }
   ],
   "source": [
    "df.head()"
   ]
  },
  {
   "cell_type": "markdown",
   "id": "25498aba",
   "metadata": {
    "papermill": {
     "duration": 0.011358,
     "end_time": "2024-10-13T11:54:56.281997",
     "exception": false,
     "start_time": "2024-10-13T11:54:56.270639",
     "status": "completed"
    },
    "tags": []
   },
   "source": [
    "## <div style = \"color:#fff ; background-color:#666 ; font-size:25px ; border-radius:25px ; padding:15px; text-align:center ;\"> Exploratary Data Analysis</div>"
   ]
  },
  {
   "cell_type": "code",
   "execution_count": 4,
   "id": "c1423c43",
   "metadata": {
    "execution": {
     "iopub.execute_input": "2024-10-13T11:54:56.306820Z",
     "iopub.status.busy": "2024-10-13T11:54:56.306366Z",
     "iopub.status.idle": "2024-10-13T11:54:56.360030Z",
     "shell.execute_reply": "2024-10-13T11:54:56.358596Z"
    },
    "papermill": {
     "duration": 0.069968,
     "end_time": "2024-10-13T11:54:56.363478",
     "exception": false,
     "start_time": "2024-10-13T11:54:56.293510",
     "status": "completed"
    },
    "tags": []
   },
   "outputs": [
    {
     "name": "stdout",
     "output_type": "stream",
     "text": [
      "<class 'pandas.core.frame.DataFrame'>\n",
      "RangeIndex: 58645 entries, 0 to 58644\n",
      "Data columns (total 13 columns):\n",
      " #   Column                      Non-Null Count  Dtype  \n",
      "---  ------                      --------------  -----  \n",
      " 0   id                          58645 non-null  int64  \n",
      " 1   person_age                  58645 non-null  int64  \n",
      " 2   person_income               58645 non-null  int64  \n",
      " 3   person_home_ownership       58645 non-null  object \n",
      " 4   person_emp_length           58645 non-null  float64\n",
      " 5   loan_intent                 58645 non-null  object \n",
      " 6   loan_grade                  58645 non-null  object \n",
      " 7   loan_amnt                   58645 non-null  int64  \n",
      " 8   loan_int_rate               58645 non-null  float64\n",
      " 9   loan_percent_income         58645 non-null  float64\n",
      " 10  cb_person_default_on_file   58645 non-null  object \n",
      " 11  cb_person_cred_hist_length  58645 non-null  int64  \n",
      " 12  loan_status                 58645 non-null  int64  \n",
      "dtypes: float64(3), int64(6), object(4)\n",
      "memory usage: 5.8+ MB\n"
     ]
    }
   ],
   "source": [
    "# information about the data\n",
    "df.info()"
   ]
  },
  {
   "cell_type": "code",
   "execution_count": 5,
   "id": "f63711b0",
   "metadata": {
    "execution": {
     "iopub.execute_input": "2024-10-13T11:54:56.388744Z",
     "iopub.status.busy": "2024-10-13T11:54:56.388322Z",
     "iopub.status.idle": "2024-10-13T11:54:56.426703Z",
     "shell.execute_reply": "2024-10-13T11:54:56.424728Z"
    },
    "papermill": {
     "duration": 0.054413,
     "end_time": "2024-10-13T11:54:56.429597",
     "exception": false,
     "start_time": "2024-10-13T11:54:56.375184",
     "status": "completed"
    },
    "tags": []
   },
   "outputs": [
    {
     "name": "stdout",
     "output_type": "stream",
     "text": [
      "Dimensions of the train data : (58645, 13)\n",
      "No of unique values in id : 58645\n",
      "No of unique values in person_age : 53\n",
      "No of unique values in person_income : 2641\n",
      "No of unique values in person_home_ownership : 4\n",
      "No of unique values in person_emp_length : 36\n",
      "No of unique values in loan_intent : 6\n",
      "No of unique values in loan_grade : 7\n",
      "No of unique values in loan_amnt : 545\n",
      "No of unique values in loan_int_rate : 362\n",
      "No of unique values in loan_percent_income : 61\n",
      "No of unique values in cb_person_default_on_file : 2\n",
      "No of unique values in cb_person_cred_hist_length : 29\n",
      "No of unique values in loan_status : 2\n"
     ]
    }
   ],
   "source": [
    "print(f\"Dimensions of the train data : {df.shape}\")\n",
    "\n",
    "\n",
    "\n",
    "for col in df.columns:\n",
    "    print(f\"No of unique values in {col} : {df[col].nunique()}\")\n",
    "    "
   ]
  },
  {
   "cell_type": "code",
   "execution_count": 6,
   "id": "83c32c62",
   "metadata": {
    "execution": {
     "iopub.execute_input": "2024-10-13T11:54:56.455017Z",
     "iopub.status.busy": "2024-10-13T11:54:56.454569Z",
     "iopub.status.idle": "2024-10-13T11:54:56.508354Z",
     "shell.execute_reply": "2024-10-13T11:54:56.507134Z"
    },
    "papermill": {
     "duration": 0.06953,
     "end_time": "2024-10-13T11:54:56.510991",
     "exception": false,
     "start_time": "2024-10-13T11:54:56.441461",
     "status": "completed"
    },
    "tags": []
   },
   "outputs": [
    {
     "data": {
      "text/plain": [
       "id                            0\n",
       "person_age                    0\n",
       "person_income                 0\n",
       "person_home_ownership         0\n",
       "person_emp_length             0\n",
       "loan_intent                   0\n",
       "loan_grade                    0\n",
       "loan_amnt                     0\n",
       "loan_int_rate                 0\n",
       "loan_percent_income           0\n",
       "cb_person_default_on_file     0\n",
       "cb_person_cred_hist_length    0\n",
       "loan_status                   0\n",
       "dtype: int64"
      ]
     },
     "execution_count": 6,
     "metadata": {},
     "output_type": "execute_result"
    }
   ],
   "source": [
    "df.isnull().sum()"
   ]
  },
  {
   "cell_type": "code",
   "execution_count": 7,
   "id": "c9bd773f",
   "metadata": {
    "execution": {
     "iopub.execute_input": "2024-10-13T11:54:56.536741Z",
     "iopub.status.busy": "2024-10-13T11:54:56.536295Z",
     "iopub.status.idle": "2024-10-13T11:54:56.547740Z",
     "shell.execute_reply": "2024-10-13T11:54:56.546581Z"
    },
    "papermill": {
     "duration": 0.028143,
     "end_time": "2024-10-13T11:54:56.550987",
     "exception": false,
     "start_time": "2024-10-13T11:54:56.522844",
     "status": "completed"
    },
    "tags": []
   },
   "outputs": [
    {
     "data": {
      "text/plain": [
       "loan_status\n",
       "0    50295\n",
       "1     8350\n",
       "Name: count, dtype: int64"
      ]
     },
     "execution_count": 7,
     "metadata": {},
     "output_type": "execute_result"
    }
   ],
   "source": [
    "df['loan_status'].value_counts()"
   ]
  },
  {
   "cell_type": "code",
   "execution_count": 8,
   "id": "4b140cc8",
   "metadata": {},
   "outputs": [],
   "source": [
    "dff = df[df['loan_status']==1]"
   ]
  },
  {
   "cell_type": "code",
   "execution_count": 21,
   "id": "8ac6b6b5",
   "metadata": {},
   "outputs": [
    {
     "data": {
      "text/html": [
       "<div>\n",
       "<style scoped>\n",
       "    .dataframe tbody tr th:only-of-type {\n",
       "        vertical-align: middle;\n",
       "    }\n",
       "\n",
       "    .dataframe tbody tr th {\n",
       "        vertical-align: top;\n",
       "    }\n",
       "\n",
       "    .dataframe thead th {\n",
       "        text-align: right;\n",
       "    }\n",
       "</style>\n",
       "<table border=\"1\" class=\"dataframe\">\n",
       "  <thead>\n",
       "    <tr style=\"text-align: right;\">\n",
       "      <th></th>\n",
       "      <th>person_age</th>\n",
       "      <th>person_income</th>\n",
       "      <th>person_home_ownership</th>\n",
       "      <th>person_emp_length</th>\n",
       "      <th>loan_intent</th>\n",
       "      <th>loan_grade</th>\n",
       "      <th>loan_amnt</th>\n",
       "      <th>loan_int_rate</th>\n",
       "      <th>loan_percent_income</th>\n",
       "      <th>cb_person_default_on_file</th>\n",
       "      <th>cb_person_cred_hist_length</th>\n",
       "    </tr>\n",
       "  </thead>\n",
       "  <tbody>\n",
       "    <tr>\n",
       "      <th>0</th>\n",
       "      <td>22</td>\n",
       "      <td>33000</td>\n",
       "      <td>RENT</td>\n",
       "      <td>6.0</td>\n",
       "      <td>PERSONAL</td>\n",
       "      <td>B</td>\n",
       "      <td>10000</td>\n",
       "      <td>11.12</td>\n",
       "      <td>0.30</td>\n",
       "      <td>N</td>\n",
       "      <td>2</td>\n",
       "    </tr>\n",
       "    <tr>\n",
       "      <th>1</th>\n",
       "      <td>22</td>\n",
       "      <td>30000</td>\n",
       "      <td>RENT</td>\n",
       "      <td>3.0</td>\n",
       "      <td>MEDICAL</td>\n",
       "      <td>D</td>\n",
       "      <td>5000</td>\n",
       "      <td>16.49</td>\n",
       "      <td>0.17</td>\n",
       "      <td>N</td>\n",
       "      <td>4</td>\n",
       "    </tr>\n",
       "    <tr>\n",
       "      <th>2</th>\n",
       "      <td>25</td>\n",
       "      <td>25000</td>\n",
       "      <td>RENT</td>\n",
       "      <td>3.0</td>\n",
       "      <td>VENTURE</td>\n",
       "      <td>C</td>\n",
       "      <td>3500</td>\n",
       "      <td>13.49</td>\n",
       "      <td>0.14</td>\n",
       "      <td>Y</td>\n",
       "      <td>3</td>\n",
       "    </tr>\n",
       "    <tr>\n",
       "      <th>3</th>\n",
       "      <td>30</td>\n",
       "      <td>54000</td>\n",
       "      <td>RENT</td>\n",
       "      <td>0.0</td>\n",
       "      <td>MEDICAL</td>\n",
       "      <td>B</td>\n",
       "      <td>12500</td>\n",
       "      <td>11.71</td>\n",
       "      <td>0.24</td>\n",
       "      <td>N</td>\n",
       "      <td>10</td>\n",
       "    </tr>\n",
       "    <tr>\n",
       "      <th>4</th>\n",
       "      <td>22</td>\n",
       "      <td>32000</td>\n",
       "      <td>RENT</td>\n",
       "      <td>6.0</td>\n",
       "      <td>EDUCATION</td>\n",
       "      <td>D</td>\n",
       "      <td>8000</td>\n",
       "      <td>15.58</td>\n",
       "      <td>0.25</td>\n",
       "      <td>N</td>\n",
       "      <td>3</td>\n",
       "    </tr>\n",
       "  </tbody>\n",
       "</table>\n",
       "</div>"
      ],
      "text/plain": [
       "   person_age  person_income person_home_ownership  person_emp_length  \\\n",
       "0          22          33000                  RENT                6.0   \n",
       "1          22          30000                  RENT                3.0   \n",
       "2          25          25000                  RENT                3.0   \n",
       "3          30          54000                  RENT                0.0   \n",
       "4          22          32000                  RENT                6.0   \n",
       "\n",
       "  loan_intent loan_grade  loan_amnt  loan_int_rate  loan_percent_income  \\\n",
       "0    PERSONAL          B      10000          11.12                 0.30   \n",
       "1     MEDICAL          D       5000          16.49                 0.17   \n",
       "2     VENTURE          C       3500          13.49                 0.14   \n",
       "3     MEDICAL          B      12500          11.71                 0.24   \n",
       "4   EDUCATION          D       8000          15.58                 0.25   \n",
       "\n",
       "  cb_person_default_on_file  cb_person_cred_hist_length  \n",
       "0                         N                           2  \n",
       "1                         N                           4  \n",
       "2                         Y                           3  \n",
       "3                         N                          10  \n",
       "4                         N                           3  "
      ]
     },
     "execution_count": 21,
     "metadata": {},
     "output_type": "execute_result"
    }
   ],
   "source": [
    "dff.head()"
   ]
  },
  {
   "cell_type": "code",
   "execution_count": 10,
   "id": "90bbc61a",
   "metadata": {},
   "outputs": [],
   "source": [
    "dff = dff.drop(columns={'id','loan_status'}).reset_index(drop=True)"
   ]
  },
  {
   "cell_type": "code",
   "execution_count": 11,
   "id": "d05f787d",
   "metadata": {
    "execution": {
     "iopub.execute_input": "2024-10-13T11:54:56.577850Z",
     "iopub.status.busy": "2024-10-13T11:54:56.577392Z",
     "iopub.status.idle": "2024-10-13T11:54:56.937372Z",
     "shell.execute_reply": "2024-10-13T11:54:56.935929Z"
    },
    "papermill": {
     "duration": 0.376655,
     "end_time": "2024-10-13T11:54:56.940268",
     "exception": false,
     "start_time": "2024-10-13T11:54:56.563613",
     "status": "completed"
    },
    "tags": []
   },
   "outputs": [
    {
     "data": {
      "image/png": "[encoded data removed]",
      "text/plain": [
       "<Figure size 640x480 with 1 Axes>"
      ]
     },
     "metadata": {},
     "output_type": "display_data"
    }
   ],
   "source": [
    "sns.histplot(x = dff['person_age'],bins =30)\n",
    "plt.show()"
   ]
  },
  {
   "cell_type": "markdown",
   "id": "94616fb6",
   "metadata": {
    "papermill": {
     "duration": 0.012329,
     "end_time": "2024-10-13T11:54:56.965550",
     "exception": false,
     "start_time": "2024-10-13T11:54:56.953221",
     "status": "completed"
    },
    "tags": []
   },
   "source": [
    "<div style ='font-size:15px; background-color:#666 ;color: #fff; padding:15px; border-radius:15px;'>Right Skewed Data . Mostly youngsters are applying for loan</div>"
   ]
  },
  {
   "cell_type": "code",
   "execution_count": 12,
   "id": "cb0dfbbd",
   "metadata": {
    "execution": {
     "iopub.execute_input": "2024-10-13T11:54:56.992179Z",
     "iopub.status.busy": "2024-10-13T11:54:56.991718Z",
     "iopub.status.idle": "2024-10-13T11:54:57.008362Z",
     "shell.execute_reply": "2024-10-13T11:54:57.007137Z"
    },
    "papermill": {
     "duration": 0.033307,
     "end_time": "2024-10-13T11:54:57.011098",
     "exception": false,
     "start_time": "2024-10-13T11:54:56.977791",
     "status": "completed"
    },
    "tags": []
   },
   "outputs": [
    {
     "data": {
      "text/plain": [
       "count      8350.000000\n",
       "mean      48224.661796\n",
       "std       22435.665380\n",
       "min        9600.000000\n",
       "25%       32000.000000\n",
       "50%       44000.000000\n",
       "75%       59000.000000\n",
       "max      397800.000000\n",
       "Name: person_income, dtype: float64"
      ]
     },
     "execution_count": 12,
     "metadata": {},
     "output_type": "execute_result"
    }
   ],
   "source": [
    "dff['person_income'].describe()"
   ]
  },
  {
   "cell_type": "code",
   "execution_count": 13,
   "id": "912c29d0",
   "metadata": {
    "execution": {
     "iopub.execute_input": "2024-10-13T11:54:57.038784Z",
     "iopub.status.busy": "2024-10-13T11:54:57.038315Z",
     "iopub.status.idle": "2024-10-13T11:54:57.329074Z",
     "shell.execute_reply": "2024-10-13T11:54:57.327394Z"
    },
    "papermill": {
     "duration": 0.308383,
     "end_time": "2024-10-13T11:54:57.332130",
     "exception": false,
     "start_time": "2024-10-13T11:54:57.023747",
     "status": "completed"
    },
    "tags": []
   },
   "outputs": [
    {
     "data": {
      "image/png": "[encoded data removed]",
      "text/plain": [
       "<Figure size 640x480 with 1 Axes>"
      ]
     },
     "metadata": {},
     "output_type": "display_data"
    }
   ],
   "source": [
    "sns.histplot(x =dff['person_income'],bins =20)\n",
    "plt.show()"
   ]
  },
  {
   "cell_type": "markdown",
   "id": "4c294b44",
   "metadata": {
    "papermill": {
     "duration": 0.013454,
     "end_time": "2024-10-13T11:54:57.359156",
     "exception": false,
     "start_time": "2024-10-13T11:54:57.345702",
     "status": "completed"
    },
    "tags": []
   },
   "source": [
    "<div style ='font-size:15px; background-color:#666 ;color: #fff; padding:15px; border-radius:15px;'>Most of them income is less than 25000 </div>"
   ]
  },
  {
   "cell_type": "code",
   "execution_count": 14,
   "id": "bb0400d2",
   "metadata": {
    "execution": {
     "iopub.execute_input": "2024-10-13T11:54:57.943664Z",
     "iopub.status.busy": "2024-10-13T11:54:57.943124Z",
     "iopub.status.idle": "2024-10-13T11:54:58.564138Z",
     "shell.execute_reply": "2024-10-13T11:54:58.562904Z"
    },
    "papermill": {
     "duration": 0.643028,
     "end_time": "2024-10-13T11:54:58.567668",
     "exception": false,
     "start_time": "2024-10-13T11:54:57.924640",
     "status": "completed"
    },
    "tags": []
   },
   "outputs": [
    {
     "data": {
      "image/png": "[encoded data removed]",
      "text/plain": [
       "<Figure size 1600x400 with 2 Axes>"
      ]
     },
     "metadata": {},
     "output_type": "display_data"
    }
   ],
   "source": [
    "plt.figure(figsize= (16,4))\n",
    "\n",
    "plt.subplot(1,2,1)\n",
    "sns.barplot(data = df ,x= 'loan_grade',ci = None)\n",
    "plt.subplot(1,2,2)\n",
    "sns.countplot(data = df ,x='loan_grade')\n",
    "plt.show()"
   ]
  },
  {
   "cell_type": "code",
   "execution_count": 15,
   "id": "88873d45",
   "metadata": {
    "execution": {
     "iopub.execute_input": "2024-10-13T11:54:58.603338Z",
     "iopub.status.busy": "2024-10-13T11:54:58.602865Z",
     "iopub.status.idle": "2024-10-13T11:54:59.182734Z",
     "shell.execute_reply": "2024-10-13T11:54:59.181426Z"
    },
    "papermill": {
     "duration": 0.598312,
     "end_time": "2024-10-13T11:54:59.185547",
     "exception": false,
     "start_time": "2024-10-13T11:54:58.587235",
     "status": "completed"
    },
    "tags": []
   },
   "outputs": [
    {
     "data": {
      "image/png": "[encoded data removed]",
      "text/plain": [
       "<Figure size 1600x400 with 1 Axes>"
      ]
     },
     "metadata": {},
     "output_type": "display_data"
    }
   ],
   "source": [
    "plt.figure(figsize= (16,4))\n",
    "\n",
    "sns.countplot(data = dff ,x='loan_intent')\n",
    "plt.xticks(rotation =30)\n",
    "\n",
    "plt.show()"
   ]
  },
  {
   "cell_type": "markdown",
   "id": "10953b9f",
   "metadata": {
    "papermill": {
     "duration": 0.021902,
     "end_time": "2024-10-13T11:54:59.223475",
     "exception": false,
     "start_time": "2024-10-13T11:54:59.201573",
     "status": "completed"
    },
    "tags": []
   },
   "source": [
    "## <div style = \"color:#fff ; background-color:#666 ; font-size:25px ; border-radius:25px ; padding:15px; text-align:center ;\"> Data Preprocessing</div>"
   ]
  },
  {
   "cell_type": "code",
   "execution_count": 19,
   "id": "040e83e3",
   "metadata": {
    "execution": {
     "iopub.execute_input": "2024-10-13T11:54:59.266400Z",
     "iopub.status.busy": "2024-10-13T11:54:59.265923Z",
     "iopub.status.idle": "2024-10-13T11:54:59.285778Z",
     "shell.execute_reply": "2024-10-13T11:54:59.284446Z"
    },
    "papermill": {
     "duration": 0.04116,
     "end_time": "2024-10-13T11:54:59.288598",
     "exception": false,
     "start_time": "2024-10-13T11:54:59.247438",
     "status": "completed"
    },
    "tags": []
   },
   "outputs": [
    {
     "data": {
      "text/plain": [
       "(Index(['person_home_ownership', 'loan_intent', 'loan_grade',\n",
       "        'cb_person_default_on_file'],\n",
       "       dtype='object'),\n",
       " Index(['person_age', 'person_income', 'person_emp_length', 'loan_int_rate',\n",
       "        'loan_percent_income', 'cb_person_cred_hist_length'],\n",
       "       dtype='object'))"
      ]
     },
     "execution_count": 19,
     "metadata": {},
     "output_type": "execute_result"
    }
   ],
   "source": [
    "categoric_columns = dff.select_dtypes(include ='object').columns\n",
    "numeric_columns =dff.select_dtypes(exclude = 'object').drop(columns='loan_amnt')\n",
    "numeric_columns = numeric_columns.columns\n",
    "categoric_columns ,numeric_columns"
   ]
  },
  {
   "cell_type": "code",
   "execution_count": 58,
   "id": "7c05dd32",
   "metadata": {
    "execution": {
     "iopub.execute_input": "2024-10-13T11:54:59.322248Z",
     "iopub.status.busy": "2024-10-13T11:54:59.321796Z",
     "iopub.status.idle": "2024-10-13T11:54:59.576341Z",
     "shell.execute_reply": "2024-10-13T11:54:59.574982Z"
    },
    "papermill": {
     "duration": 0.274711,
     "end_time": "2024-10-13T11:54:59.579672",
     "exception": false,
     "start_time": "2024-10-13T11:54:59.304961",
     "status": "completed"
    },
    "tags": []
   },
   "outputs": [],
   "source": [
    "from sklearn.preprocessing import MinMaxScaler\n",
    "\n",
    "scaler = MinMaxScaler()\n",
    "\n",
    "\n",
    "dff[numeric_columns] = scaler.fit_transform(dff[numeric_columns])\n"
   ]
  },
  {
   "cell_type": "code",
   "execution_count": 59,
   "id": "576bdabf",
   "metadata": {
    "execution": {
     "iopub.execute_input": "2024-10-13T11:54:59.614001Z",
     "iopub.status.busy": "2024-10-13T11:54:59.613548Z",
     "iopub.status.idle": "2024-10-13T11:54:59.785867Z",
     "shell.execute_reply": "2024-10-13T11:54:59.784718Z"
    },
    "papermill": {
     "duration": 0.193354,
     "end_time": "2024-10-13T11:54:59.788778",
     "exception": false,
     "start_time": "2024-10-13T11:54:59.595424",
     "status": "completed"
    },
    "tags": []
   },
   "outputs": [],
   "source": [
    "\n",
    "    \n",
    "from sklearn.preprocessing import LabelEncoder\n",
    "label = LabelEncoder()\n",
    "\n",
    "\n",
    "for col in numeric_columns:\n",
    "    dff[col] = label.fit_transform(dff[col])\n",
    "        "
   ]
  },
  {
   "cell_type": "code",
   "execution_count": 17,
   "id": "dbe9660f",
   "metadata": {
    "execution": {
     "iopub.execute_input": "2024-10-13T11:54:59.867373Z",
     "iopub.status.busy": "2024-10-13T11:54:59.866883Z",
     "iopub.status.idle": "2024-10-13T11:55:00.018322Z",
     "shell.execute_reply": "2024-10-13T11:55:00.017008Z"
    },
    "papermill": {
     "duration": 0.174188,
     "end_time": "2024-10-13T11:55:00.022517",
     "exception": false,
     "start_time": "2024-10-13T11:54:59.848329",
     "status": "completed"
    },
    "tags": []
   },
   "outputs": [],
   "source": [
    "x = dff.drop(columns = {'loan_amnt'})\n",
    "y = dff['loan_amnt']\n",
    "\n",
    "\n",
    "from sklearn.model_selection import train_test_split\n",
    "x_train ,x_test , y_train ,y_test = train_test_split(x,y,test_size =0.2 ,random_state =42)"
   ]
  },
  {
   "cell_type": "code",
   "execution_count": 19,
   "id": "e1f2374c",
   "metadata": {
    "execution": {
     "iopub.execute_input": "2024-10-13T11:55:00.062945Z",
     "iopub.status.busy": "2024-10-13T11:55:00.062348Z",
     "iopub.status.idle": "2024-10-13T11:55:00.072879Z",
     "shell.execute_reply": "2024-10-13T11:55:00.071571Z"
    },
    "papermill": {
     "duration": 0.032793,
     "end_time": "2024-10-13T11:55:00.076104",
     "exception": false,
     "start_time": "2024-10-13T11:55:00.043311",
     "status": "completed"
    },
    "tags": []
   },
   "outputs": [
    {
     "data": {
      "text/plain": [
       "((46916, 23), (46916,), (11729, 23), (11729,))"
      ]
     },
     "execution_count": 19,
     "metadata": {},
     "output_type": "execute_result"
    }
   ],
   "source": [
    "x_train.shape ,y_train.shape ,x_test.shape , y_test.shape"
   ]
  },
  {
   "cell_type": "markdown",
   "id": "21a33d19",
   "metadata": {
    "papermill": {
     "duration": 0.015626,
     "end_time": "2024-10-13T11:55:00.108552",
     "exception": false,
     "start_time": "2024-10-13T11:55:00.092926",
     "status": "completed"
    },
    "tags": []
   },
   "source": [
    "## <div style = \"color:#fff ; background-color:#666 ; font-size:25px ; border-radius:25px ; padding:15px; text-align:center ;\"> Model Building</div>"
   ]
  },
  {
   "cell_type": "code",
   "execution_count": 20,
   "id": "58e97548",
   "metadata": {
    "execution": {
     "iopub.execute_input": "2024-10-13T11:55:00.143595Z",
     "iopub.status.busy": "2024-10-13T11:55:00.141801Z",
     "iopub.status.idle": "2024-10-13T11:55:00.995035Z",
     "shell.execute_reply": "2024-10-13T11:55:00.993834Z"
    },
    "papermill": {
     "duration": 0.873111,
     "end_time": "2024-10-13T11:55:00.997781",
     "exception": false,
     "start_time": "2024-10-13T11:55:00.124670",
     "status": "completed"
    },
    "tags": []
   },
   "outputs": [],
   "source": [
    "from sklearn.tree import DecisionTreeClassifier\n",
    "\n",
    "\n",
    "DT = DecisionTreeClassifier()\n",
    "\n",
    "DT.fit(x_train , y_train)\n",
    "\n",
    "DT_pred = DT.predict(x_test)\n",
    "\n",
    "\n",
    "\n"
   ]
  },
  {
   "cell_type": "code",
   "execution_count": 21,
   "id": "f63c89cc",
   "metadata": {
    "execution": {
     "iopub.execute_input": "2024-10-13T11:55:01.030146Z",
     "iopub.status.busy": "2024-10-13T11:55:01.029665Z",
     "iopub.status.idle": "2024-10-13T11:55:01.541165Z",
     "shell.execute_reply": "2024-10-13T11:55:01.539818Z"
    },
    "papermill": {
     "duration": 0.530881,
     "end_time": "2024-10-13T11:55:01.543888",
     "exception": false,
     "start_time": "2024-10-13T11:55:01.013007",
     "status": "completed"
    },
    "tags": []
   },
   "outputs": [
    {
     "name": "stdout",
     "output_type": "stream",
     "text": [
      "Classification Report :\n",
      "              precision    recall  f1-score   support\n",
      "\n",
      "           0       0.94      0.95      0.94      9914\n",
      "           1       0.72      0.65      0.68      1815\n",
      "\n",
      "    accuracy                           0.91     11729\n",
      "   macro avg       0.83      0.80      0.81     11729\n",
      "weighted avg       0.90      0.91      0.90     11729\n",
      "\n"
     ]
    },
    {
     "data": {
      "image/png": "[encoded data removed]",
      "text/plain": [
       "<Figure size 640x480 with 2 Axes>"
      ]
     },
     "metadata": {},
     "output_type": "display_data"
    }
   ],
   "source": [
    "from sklearn.metrics import classification_report , confusion_matrix\n",
    "\n",
    "\n",
    "cm =confusion_matrix(DT_pred ,y_test )\n",
    "\n",
    "sns.heatmap(cm ,annot =True,fmt ='.0f')\n",
    "print(\"Classification Report :\")\n",
    "print(classification_report(DT_pred,y_test))"
   ]
  },
  {
   "cell_type": "code",
   "execution_count": 22,
   "id": "83744201",
   "metadata": {
    "execution": {
     "iopub.execute_input": "2024-10-13T11:55:01.580076Z",
     "iopub.status.busy": "2024-10-13T11:55:01.579601Z",
     "iopub.status.idle": "2024-10-13T11:55:10.639999Z",
     "shell.execute_reply": "2024-10-13T11:55:10.638807Z"
    },
    "papermill": {
     "duration": 9.082603,
     "end_time": "2024-10-13T11:55:10.642887",
     "exception": false,
     "start_time": "2024-10-13T11:55:01.560284",
     "status": "completed"
    },
    "tags": []
   },
   "outputs": [],
   "source": [
    "from sklearn.ensemble import RandomForestClassifier\n",
    "\n",
    "RF = RandomForestClassifier()\n",
    "\n",
    "RF.fit(x_train,y_train)\n",
    "\n",
    "RF_pred = RF.predict(x_test)"
   ]
  },
  {
   "cell_type": "code",
   "execution_count": 23,
   "id": "3eb96698",
   "metadata": {
    "execution": {
     "iopub.execute_input": "2024-10-13T11:55:10.676797Z",
     "iopub.status.busy": "2024-10-13T11:55:10.676357Z",
     "iopub.status.idle": "2024-10-13T11:55:11.019619Z",
     "shell.execute_reply": "2024-10-13T11:55:11.018105Z"
    },
    "papermill": {
     "duration": 0.363508,
     "end_time": "2024-10-13T11:55:11.022458",
     "exception": false,
     "start_time": "2024-10-13T11:55:10.658950",
     "status": "completed"
    },
    "tags": []
   },
   "outputs": [
    {
     "name": "stdout",
     "output_type": "stream",
     "text": [
      "Classification Report :\n",
      "              precision    recall  f1-score   support\n",
      "\n",
      "           0       0.99      0.96      0.97     10439\n",
      "           1       0.72      0.91      0.80      1290\n",
      "\n",
      "    accuracy                           0.95     11729\n",
      "   macro avg       0.85      0.94      0.89     11729\n",
      "weighted avg       0.96      0.95      0.95     11729\n",
      "\n"
     ]
    },
    {
     "data": {
      "image/png": "[encoded data removed]",
      "text/plain": [
       "<Figure size 640x480 with 2 Axes>"
      ]
     },
     "metadata": {},
     "output_type": "display_data"
    }
   ],
   "source": [
    "\n",
    "cm =confusion_matrix(RF_pred ,y_test )\n",
    "\n",
    "sns.heatmap(cm ,annot =True,fmt ='.0f')\n",
    "print(\"Classification Report :\")\n",
    "print(classification_report(RF_pred ,y_test))"
   ]
  },
  {
   "cell_type": "code",
   "execution_count": 24,
   "id": "8509e9f2",
   "metadata": {
    "execution": {
     "iopub.execute_input": "2024-10-13T11:55:11.058257Z",
     "iopub.status.busy": "2024-10-13T11:55:11.057782Z",
     "iopub.status.idle": "2024-10-13T11:55:12.296428Z",
     "shell.execute_reply": "2024-10-13T11:55:12.295452Z"
    },
    "papermill": {
     "duration": 1.259598,
     "end_time": "2024-10-13T11:55:12.299188",
     "exception": false,
     "start_time": "2024-10-13T11:55:11.039590",
     "status": "completed"
    },
    "tags": []
   },
   "outputs": [],
   "source": [
    "from xgboost import XGBClassifier\n",
    "\n",
    "\n",
    "xgb = XGBClassifier(\n",
    "    learning_rate = 0.051113154,\n",
    "    max_depth = 8,\n",
    "    max_leaves = 15,\n",
    "    colsample_bytree = 0.6,\n",
    "\n",
    "    \n",
    "    n_estimators = 250,\n",
    "    random_state = 42,\n",
    "\n",
    "    \n",
    ")\n",
    "\n",
    "xgb.fit(x_train,y_train)\n",
    "\n",
    "xgb_pred = xgb.predict(x_test)\n",
    "\n"
   ]
  },
  {
   "cell_type": "code",
   "execution_count": 25,
   "id": "247aae7e",
   "metadata": {
    "execution": {
     "iopub.execute_input": "2024-10-13T11:55:12.336631Z",
     "iopub.status.busy": "2024-10-13T11:55:12.336140Z",
     "iopub.status.idle": "2024-10-13T11:55:12.664957Z",
     "shell.execute_reply": "2024-10-13T11:55:12.663648Z"
    },
    "papermill": {
     "duration": 0.34999,
     "end_time": "2024-10-13T11:55:12.667720",
     "exception": false,
     "start_time": "2024-10-13T11:55:12.317730",
     "status": "completed"
    },
    "tags": []
   },
   "outputs": [
    {
     "name": "stdout",
     "output_type": "stream",
     "text": [
      "Classification Report :\n",
      "              precision    recall  f1-score   support\n",
      "\n",
      "           0       0.99      0.96      0.97     10431\n",
      "           1       0.72      0.91      0.80      1298\n",
      "\n",
      "    accuracy                           0.95     11729\n",
      "   macro avg       0.85      0.93      0.89     11729\n",
      "weighted avg       0.96      0.95      0.95     11729\n",
      "\n"
     ]
    },
    {
     "data": {
      "image/png": "[encoded data removed]",
      "text/plain": [
       "<Figure size 640x480 with 2 Axes>"
      ]
     },
     "metadata": {},
     "output_type": "display_data"
    }
   ],
   "source": [
    "\n",
    "cm =confusion_matrix(xgb_pred ,y_test )\n",
    "\n",
    "sns.heatmap(cm ,annot =True,fmt ='.0f')\n",
    "print(\"Classification Report :\")\n",
    "print(classification_report(xgb_pred ,y_test))"
   ]
  }
 ],
 "metadata": {
  "kaggle": {
   "accelerator": "none",
   "dataSources": [
    {
     "databundleVersionId": 9709193,
     "sourceId": 84894,
     "sourceType": "competition"
    }
   ],
   "dockerImageVersionId": 30775,
   "isGpuEnabled": false,
   "isInternetEnabled": true,
   "language": "python",
   "sourceType": "notebook"
  },
  "kernelspec": {
   "display_name": "base",
   "language": "python",
   "name": "python3"
  },
  "language_info": {
   "codemirror_mode": {
    "name": "ipython",
    "version": 3
   },
   "file_extension": ".py",
   "mimetype": "text/x-python",
   "name": "python",
   "nbconvert_exporter": "python",
   "pygments_lexer": "ipython3",
   "version": "3.12.4"
  },
  "papermill": {
   "default_parameters": {},
   "duration": 23.969787,
   "end_time": "2024-10-13T11:55:13.655668",
   "environment_variables": {},
   "exception": null,
   "input_path": "__notebook__.ipynb",
   "output_path": "__notebook__.ipynb",
   "parameters": {},
   "start_time": "2024-10-13T11:54:49.685881",
   "version": "2.6.0"
  }
 },
 "nbformat": 4,
 "nbformat_minor": 5
}
